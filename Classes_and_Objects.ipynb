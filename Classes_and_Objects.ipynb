{
  "nbformat": 4,
  "nbformat_minor": 0,
  "metadata": {
    "colab": {
      "provenance": [],
      "authorship_tag": "ABX9TyOA80gIhZZB9e+an3JP0/hu",
      "include_colab_link": true
    },
    "kernelspec": {
      "name": "python3",
      "display_name": "Python 3"
    },
    "language_info": {
      "name": "python"
    }
  },
  "cells": [
    {
      "cell_type": "markdown",
      "metadata": {
        "id": "view-in-github",
        "colab_type": "text"
      },
      "source": [
        "<a href=\"https://colab.research.google.com/github/AngJohnGabriel/58003-OOP/blob/main/Classes_and_Objects.ipynb\" target=\"_parent\"><img src=\"https://colab.research.google.com/assets/colab-badge.svg\" alt=\"Open In Colab\"/></a>"
      ]
    },
    {
      "cell_type": "code",
      "execution_count": 1,
      "metadata": {
        "colab": {
          "base_uri": "https://localhost:8080/"
        },
        "id": "Da5B_1gclFYf",
        "outputId": "e6fafb2a-710a-4304-867d-2b3383f97db0"
      },
      "outputs": [
        {
          "output_type": "stream",
          "name": "stdout",
          "text": [
            "The Perimeter of rectangle is 30\n",
            "The Area of rectangle is  50\n"
          ]
        },
        {
          "output_type": "execute_result",
          "data": {
            "text/plain": [
              "(10, 5)"
            ]
          },
          "metadata": {},
          "execution_count": 1
        }
      ],
      "source": [
        "#Write a rectangle class in Python language with length, and width as attributes \n",
        "#Create a Perimeter() and Area () as methods to compute for the perimeter and area of the rectangle\n",
        "\n",
        "class Rectangle:\n",
        "  def __init__(self,length,width):\n",
        "    self.length = length\n",
        "    self.width = width\n",
        "\n",
        "  def Perimeter (self):\n",
        "    return 2*(self.length + self.width)\n",
        "\n",
        "  def Area (self):\n",
        "    return self.length * self.width\n",
        "  \n",
        "  def display (self):\n",
        "    print (\"The Perimeter of rectangle is\", self.Perimeter())\n",
        "    print (\"The Area of rectangle is \", self.Area())\n",
        "  \n",
        "  def Rectangle (self):\n",
        "    return self.length, self.width\n",
        "  \n",
        "rectangle = Rectangle (10, 5)\n",
        "\n",
        "rectangle.display()\n",
        "rectangle.Rectangle()\n",
        "#print (Rectangle)"
      ]
    },
    {
      "cell_type": "code",
      "source": [
        "#Write a Rectangle class in Python language with length and width as attributes\n",
        "#Create a Perimeter() and Area() as methods to compute for the perimeter and area of the rectangle\n",
        "\n",
        "class Rectangle:\n",
        "  def __init__(self,length,width):\n",
        "    self.length = length\n",
        "    self.width = width\n",
        "\n",
        "  def Perimeter(self):\n",
        "    return 2*(self.length + self.width)\n",
        "  \n",
        "  def Area(self):\n",
        "    return self.length * self.width\n",
        "\n",
        "  def Rectangle(self):\n",
        "    return self.length, self.width\n",
        "\n",
        "  def display(self):\n",
        "    print(\"The perimeter of the rectangle is\",self.Perimeter())\n",
        "    print(\"The area of the rectangle is\",self.Area())\n",
        "\n",
        "rectangle = Rectangle(10,5)\n",
        "\n",
        "rectangle.display()\n",
        "rectangle.Rectangle()"
      ],
      "metadata": {
        "colab": {
          "base_uri": "https://localhost:8080/"
        },
        "id": "EUwkY16slIO8",
        "outputId": "dd6e11b1-d36f-4435-adc3-05bf74832e80"
      },
      "execution_count": 2,
      "outputs": [
        {
          "output_type": "stream",
          "name": "stdout",
          "text": [
            "The perimeter of the rectangle is 30\n",
            "The area of the rectangle is 50\n"
          ]
        },
        {
          "output_type": "execute_result",
          "data": {
            "text/plain": [
              "(10, 5)"
            ]
          },
          "metadata": {},
          "execution_count": 2
        }
      ]
    },
    {
      "cell_type": "code",
      "source": [
        "#Short Activity\n",
        "\n",
        "#Write a Python program to create the following:\n",
        "# Student as class name\n",
        "# Fullname, age, and school as attributes\n",
        "# Identity as method\n",
        "# student as object name\n",
        "\n",
        "#Note: This will display all the student's identify such fullname, age and school\n",
        "\n",
        "class Student:\n",
        "  def __init__(self, Fullname, age, school):\n",
        "    self.Fullname  = Fullname\n",
        "    self.age = age\n",
        "    self.school = school\n",
        "\n",
        "  def Identity(self):\n",
        "    return self.Fullname, self.age, self.school\n",
        "  \n",
        "  def display(self):\n",
        "    print (self.Identity())\n",
        "\n",
        "student = Student (\"John Gabriel Ang\", 18, \"Adamson University\")\n",
        "#student.display()\n"
      ],
      "metadata": {
        "id": "VmhJ2GlllK2C"
      },
      "execution_count": 6,
      "outputs": []
    },
    {
      "cell_type": "code",
      "source": [
        "class Student:\n",
        "  def __init__(self, Fullname, age, school):\n",
        "    self.Fullname  = Fullname\n",
        "    self.age = age\n",
        "    self.school = school\n",
        "\n",
        "  def Identity(self):\n",
        "    return self.Fullname, self.age, self.school\n",
        "  \n",
        "  def display(self):\n",
        "    print (self.Identity())\n",
        "\n",
        "student = Student (\"John Gabriel Ang\", 18, \"Adamson University\")\n",
        "student.display()\n"
      ],
      "metadata": {
        "colab": {
          "base_uri": "https://localhost:8080/"
        },
        "id": "kzlrWOnblXFM",
        "outputId": "58505b51-95a9-48c4-97d4-b623a89e8fbc"
      },
      "execution_count": 4,
      "outputs": [
        {
          "output_type": "stream",
          "name": "stdout",
          "text": [
            "('John Gabriel Ang', 18, 'Adamson University')\n"
          ]
        }
      ]
    }
  ]
}