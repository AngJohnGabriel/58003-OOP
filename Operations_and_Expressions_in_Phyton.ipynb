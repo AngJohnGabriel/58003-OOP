{
  "nbformat": 4,
  "nbformat_minor": 0,
  "metadata": {
    "colab": {
      "provenance": [],
      "authorship_tag": "ABX9TyN+infJlt+jf4ZVQF5op9+Z",
      "include_colab_link": true
    },
    "kernelspec": {
      "name": "python3",
      "display_name": "Python 3"
    },
    "language_info": {
      "name": "python"
    }
  },
  "cells": [
    {
      "cell_type": "markdown",
      "metadata": {
        "id": "view-in-github",
        "colab_type": "text"
      },
      "source": [
        "<a href=\"https://colab.research.google.com/github/AngJohnGabriel/58003-OOP/blob/main/Operations_and_Expressions_in_Phyton.ipynb\" target=\"_parent\"><img src=\"https://colab.research.google.com/assets/colab-badge.svg\" alt=\"Open In Colab\"/></a>"
      ]
    },
    {
      "cell_type": "code",
      "source": [
        "#boolean operators\n",
        "print(10>9)\n",
        "print(10==9)\n",
        "print(10<9)\n",
        "print(10==10)\n",
        "print(9==9)"
      ],
      "metadata": {
        "colab": {
          "base_uri": "https://localhost:8080/"
        },
        "id": "bNyju4q1hNVa",
        "outputId": "2a7c033c-dba1-41d5-f95d-0f2e25636cd2"
      },
      "execution_count": 2,
      "outputs": [
        {
          "output_type": "stream",
          "name": "stdout",
          "text": [
            "True\n",
            "False\n",
            "False\n",
            "True\n",
            "True\n"
          ]
        }
      ]
    },
    {
      "cell_type": "code",
      "source": [
        "#bool() function\n",
        "print(bool(1))\n",
        "print(bool(\"Gabriel\"))\n",
        "print(bool(-1))\n",
        "print(bool(0))\n",
        "print(bool(None))\n",
        "print(bool([]))"
      ],
      "metadata": {
        "colab": {
          "base_uri": "https://localhost:8080/"
        },
        "id": "56QsNKDqifcF",
        "outputId": "63fe9669-fbf8-492e-b7a8-ab189da2a38d"
      },
      "execution_count": 6,
      "outputs": [
        {
          "output_type": "stream",
          "name": "stdout",
          "text": [
            "True\n",
            "True\n",
            "True\n",
            "False\n",
            "False\n",
            "False\n"
          ]
        }
      ]
    },
    {
      "cell_type": "code",
      "source": [
        "#input function\n",
        "w = int(input())"
      ],
      "metadata": {
        "colab": {
          "base_uri": "https://localhost:8080/"
        },
        "id": "6qapp5aBi0el",
        "outputId": "3b684706-e1bc-4294-da9e-56e3ca5c8d9d"
      },
      "execution_count": 7,
      "outputs": [
        {
          "name": "stdout",
          "output_type": "stream",
          "text": [
            "2004\n"
          ]
        }
      ]
    },
    {
      "cell_type": "code",
      "source": [
        "#functions can return a boolean\n",
        "def myFunction():\n",
        "  return True\n",
        "print(myFunction())"
      ],
      "metadata": {
        "colab": {
          "base_uri": "https://localhost:8080/"
        },
        "id": "F9BbsAr8kIIu",
        "outputId": "039abfb9-fff9-484c-968d-3bea047c8cf8"
      },
      "execution_count": 12,
      "outputs": [
        {
          "output_type": "stream",
          "name": "stdout",
          "text": [
            "True\n"
          ]
        }
      ]
    },
    {
      "cell_type": "code",
      "source": [
        "#phyton operators \n",
        "print (10+5)\n",
        "print (10-5)\n",
        "print (10*5)\n",
        "print (10/5)"
      ],
      "metadata": {
        "colab": {
          "base_uri": "https://localhost:8080/"
        },
        "id": "UY8Z_TYtlj9E",
        "outputId": "a46786f2-82cf-406c-d553-1fc4a901c1be"
      },
      "execution_count": 13,
      "outputs": [
        {
          "output_type": "stream",
          "name": "stdout",
          "text": [
            "15\n",
            "5\n",
            "50\n",
            "2.0\n"
          ]
        }
      ]
    },
    {
      "cell_type": "code",
      "source": [
        "#floor division\n",
        "print (10/3)\n",
        "print (10//3)\n",
        "print (10%3)"
      ],
      "metadata": {
        "colab": {
          "base_uri": "https://localhost:8080/"
        },
        "id": "xs-rPMUGmZOy",
        "outputId": "213735d3-d4a0-4a3c-aff1-4c3f9f8854d2"
      },
      "execution_count": 16,
      "outputs": [
        {
          "output_type": "stream",
          "name": "stdout",
          "text": [
            "3.3333333333333335\n",
            "3\n",
            "1\n"
          ]
        }
      ]
    },
    {
      "cell_type": "code",
      "source": [
        "#phyton bitwise operators\n",
        "a = 60 \n",
        "b = 13 \n",
        "print(a | b)\n",
        "print(a & b)\n",
        "print(a ^ b)\n",
        "print(a<<1)"
      ],
      "metadata": {
        "colab": {
          "base_uri": "https://localhost:8080/"
        },
        "id": "G7KlP5RKmgAa",
        "outputId": "cc9cdcc3-d268-4c90-dad4-0949afb9f67c"
      },
      "execution_count": 25,
      "outputs": [
        {
          "output_type": "stream",
          "name": "stdout",
          "text": [
            "61\n",
            "12\n",
            "49\n",
            "120\n"
          ]
        }
      ]
    },
    {
      "cell_type": "code",
      "source": [
        "#phyton assignment operator\n",
        "x = 6\n",
        "x+=3  ## same as x = x + 3\n",
        "      ## x = (6) + 3 = 9\n",
        "\n",
        "print(x)"
      ],
      "metadata": {
        "colab": {
          "base_uri": "https://localhost:8080/"
        },
        "id": "qSV4s1COq8ii",
        "outputId": "ec4fb33e-3fa6-41bc-dd92-5d6f4c79a5bf"
      },
      "execution_count": 28,
      "outputs": [
        {
          "output_type": "stream",
          "name": "stdout",
          "text": [
            "9\n"
          ]
        }
      ]
    },
    {
      "cell_type": "code",
      "source": [
        "#logical operator\n",
        "t = True\n",
        "s = False\n",
        "\n",
        "print (t and s)\n",
        "print (t or s)\n",
        "print (not (t or s)) ## not(true) = false "
      ],
      "metadata": {
        "colab": {
          "base_uri": "https://localhost:8080/"
        },
        "id": "5T47EbZWra6i",
        "outputId": "6bb8936f-913c-487c-bb13-dddfdae8ad70"
      },
      "execution_count": 33,
      "outputs": [
        {
          "output_type": "stream",
          "name": "stdout",
          "text": [
            "False\n",
            "True\n",
            "False\n"
          ]
        }
      ]
    },
    {
      "cell_type": "code",
      "source": [
        "#identity operator\n",
        "#is / is not\n",
        "t = True\n",
        "s = False\n",
        "\n",
        "print (t is t)\n",
        "print (t is s)\n",
        "print (t is not s)\n"
      ],
      "metadata": {
        "colab": {
          "base_uri": "https://localhost:8080/"
        },
        "id": "_eOO0aQBsssA",
        "outputId": "432df4a2-7e5c-457c-a303-3226aba69b0e"
      },
      "execution_count": 36,
      "outputs": [
        {
          "output_type": "stream",
          "name": "stdout",
          "text": [
            "True\n",
            "False\n",
            "True\n"
          ]
        }
      ]
    },
    {
      "cell_type": "markdown",
      "source": [
        "HUMAN CALCU"
      ],
      "metadata": {
        "id": "18fIoulito2_"
      }
    },
    {
      "cell_type": "code",
      "source": [
        "from re import M\n",
        "x = int(input())\n",
        "y = str(input())\n",
        "z = int(input())\n",
        "\n",
        "if (y == \"p\"): \n",
        " print(x+z)\n",
        "elif (y == \"m\"):\n",
        "  print(x-z)\n",
        "elif (y == \"t\"):\n",
        "  print(x*z)\n",
        "elif (y == \"d\"):\n",
        "  print(x/z)\n",
        "else:\n",
        " print('wrong input')\n"
      ],
      "metadata": {
        "colab": {
          "base_uri": "https://localhost:8080/"
        },
        "id": "xtTZp2JLtoCy",
        "outputId": "386ff173-9c53-4a32-ae73-1ee0af5d349d"
      },
      "execution_count": 67,
      "outputs": [
        {
          "output_type": "stream",
          "name": "stdout",
          "text": [
            "26\n",
            "d\n",
            "5\n",
            "5.2\n"
          ]
        }
      ]
    }
  ]
}