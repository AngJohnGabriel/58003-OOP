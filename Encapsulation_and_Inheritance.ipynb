{
  "nbformat": 4,
  "nbformat_minor": 0,
  "metadata": {
    "colab": {
      "provenance": [],
      "authorship_tag": "ABX9TyM8R1axeMs8IA4Yiwhta4RR",
      "include_colab_link": true
    },
    "kernelspec": {
      "name": "python3",
      "display_name": "Python 3"
    },
    "language_info": {
      "name": "python"
    }
  },
  "cells": [
    {
      "cell_type": "markdown",
      "metadata": {
        "id": "view-in-github",
        "colab_type": "text"
      },
      "source": [
        "<a href=\"https://colab.research.google.com/github/AngJohnGabriel/58003-OOP/blob/main/Encapsulation_and_Inheritance.ipynb\" target=\"_parent\"><img src=\"https://colab.research.google.com/assets/colab-badge.svg\" alt=\"Open In Colab\"/></a>"
      ]
    },
    {
      "cell_type": "code",
      "execution_count": null,
      "metadata": {
        "colab": {
          "base_uri": "https://localhost:8080/"
        },
        "id": "Wq4hQ46EVtDj",
        "outputId": "120a81dc-ac85-4ebd-c070-1a6fc34fb64d"
      },
      "outputs": [
        {
          "output_type": "execute_result",
          "data": {
            "text/plain": [
              "7"
            ]
          },
          "metadata": {},
          "execution_count": 3
        }
      ],
      "source": [
        "class foo:\n",
        "  def __init__(self, a, b):\n",
        "    self.__a = a\n",
        "    self.__b = b\n",
        "  def add(self):\n",
        "    return self.__a + self.__b\n",
        "foo_object = foo(3,4)\n",
        "foo_object.add()\n",
        "\n",
        "#the using of double underscore before the variable is called mangling, this is to hide the code from the user.\n",
        "#this is called encapsulation"
      ]
    },
    {
      "cell_type": "code",
      "source": [
        "class Counter:\n",
        "  def __init__(self, current):\n",
        "    self.current = 0 \n",
        "\n",
        "  def increment(self):\n",
        "    self.current += 1\n",
        "\n",
        "  def value(self):\n",
        "    return self.current\n",
        "\n",
        "  def reset(self):\n",
        "    self.current = 0 \n",
        "\n",
        "  \n",
        "  def display_counter(self):\n",
        "    print (\"The increment is \", self.increment())\n",
        "    print (\"The Current Value is \", self.value())\n",
        "    print (\"The Reset Value is \", self.reset())\n",
        "\n",
        "counter1 = Counter(0)\n",
        "counter1.display_counter() \n",
        "\n",
        "\n",
        "\n"
      ],
      "metadata": {
        "colab": {
          "base_uri": "https://localhost:8080/"
        },
        "id": "otGYNLDmaJ7D",
        "outputId": "fc2fd4c8-5510-4e59-c74e-4e41029739a0"
      },
      "execution_count": null,
      "outputs": [
        {
          "output_type": "stream",
          "name": "stdout",
          "text": [
            "The increment is  None\n",
            "The Current Value is  1\n",
            "The Reset Value is  None\n"
          ]
        }
      ]
    },
    {
      "cell_type": "code",
      "source": [
        "#inheritance example\n",
        "\n",
        "class Person:\n",
        "  def __init__(self,name,birthdate):\n",
        "    self.name = name\n",
        "    self.birthdate = birthdate\n",
        "  def display_identity(self):\n",
        "    print(\"My name is\", self.name)\n",
        "    print(\"My birthdate is\", self.birthdate)\n",
        "\n",
        "class Teacher(Person):\n",
        "  pass \n",
        "class Student(Person):\n",
        "  pass\n",
        "\n",
        "teacher = Teacher(\"Maria\", \"Feb 20 1987\")\n",
        "student = Student(\"Ana,\", \"Mar 20 2004\")\n",
        "\n",
        "teacher.display_identity()\n",
        "student.display_identity()"
      ],
      "metadata": {
        "colab": {
          "base_uri": "https://localhost:8080/"
        },
        "id": "amNpSy9xf7rP",
        "outputId": "01b0f030-bde0-4192-f5b8-509629a2f5a3"
      },
      "execution_count": null,
      "outputs": [
        {
          "output_type": "stream",
          "name": "stdout",
          "text": [
            "My name is Maria\n",
            "My birthdate is Feb 20 1987\n",
            "My name is Ana,\n",
            "My birthdate is Mar 20 2004\n"
          ]
        }
      ]
    },
    {
      "cell_type": "code",
      "source": [
        "#choose 5 example of shapes \n",
        "#class name is shape\n",
        "#sides are attribute\n",
        "#Display( methoed to show the number of sides\n",
        "#Apply Encapsulation by mangling (double underscore)\n",
        "#inherit the properties of each shape from the parent class shape\n",
        "\n",
        "class Shape:\n",
        "    def __init__(self, sides):\n",
        "        self.__sides = sides\n",
        "\n",
        "    def __display(self):\n",
        "        print(\"This shape has\", self.__sides, \"sides.\")\n",
        "\n",
        "    def show_sides(self):\n",
        "        self.__display()\n",
        "\n",
        "class Circle(Shape):\n",
        "    def __init__(self):\n",
        "        super().__init__(0)\n",
        "\n",
        "class Square(Shape):\n",
        "    def __init__(self):\n",
        "        super().__init__(4)\n",
        "\n",
        "class Rectangle(Shape):\n",
        "    def __init__(self):\n",
        "        super().__init__(4)\n",
        "\n",
        "class Star(Shape):\n",
        "    def __init__(self):\n",
        "        super().__init__(10)\n",
        "\n",
        "class Octagon(Shape):\n",
        "    def __init__(self):\n",
        "        super().__init__(8)\n",
        "\n",
        "circle = Circle()\n",
        "circle.show_sides()\n",
        "\n",
        "square = Square()\n",
        "square.show_sides()\n",
        "\n",
        "rectangle = Rectangle()\n",
        "rectangle.show_sides()\n",
        "\n",
        "star = Star()\n",
        "star.show_sides()\n",
        "\n",
        "octagon = Octagon()\n",
        "octagon.show_sides()"
      ],
      "metadata": {
        "colab": {
          "base_uri": "https://localhost:8080/"
        },
        "id": "Vg_BIChTiw5b",
        "outputId": "4c263472-c201-4348-9399-767222d758e7"
      },
      "execution_count": 1,
      "outputs": [
        {
          "output_type": "stream",
          "name": "stdout",
          "text": [
            "This shape has 0 sides.\n",
            "This shape has 4 sides.\n",
            "This shape has 4 sides.\n",
            "This shape has 10 sides.\n",
            "This shape has 8 sides.\n"
          ]
        }
      ]
    }
  ]
}