{
  "nbformat": 4,
  "nbformat_minor": 0,
  "metadata": {
    "colab": {
      "provenance": [],
      "authorship_tag": "ABX9TyNFUh3Qa+PEhSV45jMhXeRg",
      "include_colab_link": true
    },
    "kernelspec": {
      "name": "python3",
      "display_name": "Python 3"
    },
    "language_info": {
      "name": "python"
    }
  },
  "cells": [
    {
      "cell_type": "markdown",
      "metadata": {
        "id": "view-in-github",
        "colab_type": "text"
      },
      "source": [
        "<a href=\"https://colab.research.google.com/github/AngJohnGabriel/58003-OOP/blob/main/Lab_Activity_2.ipynb\" target=\"_parent\"><img src=\"https://colab.research.google.com/assets/colab-badge.svg\" alt=\"Open In Colab\"/></a>"
      ]
    },
    {
      "cell_type": "code",
      "execution_count": 26,
      "metadata": {
        "colab": {
          "base_uri": "https://localhost:8080/"
        },
        "id": "H7biHZoRpUYt",
        "outputId": "28229671-19ba-4f15-9ed0-4b8a52e49335"
      },
      "outputs": [
        {
          "output_type": "stream",
          "name": "stdout",
          "text": [
            "Enter the radius of a circle: 6\n",
            "The area of the circle is:  113.04\n",
            "The perimeter of the circle is:  37.68\n"
          ]
        }
      ],
      "source": [
        "    r = float(input(\"Enter the radius of a circle: \"))\n",
        "    area = 3.14*r**2\n",
        "    perimeter = 2*3.14*r\n",
        "    print(\"The area of the circle is: \", area)\n",
        "    print(\"The perimeter of the circle is: \", perimeter)"
      ]
    }
  ]
}