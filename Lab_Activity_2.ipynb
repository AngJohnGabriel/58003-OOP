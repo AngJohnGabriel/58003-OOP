{
  "nbformat": 4,
  "nbformat_minor": 0,
  "metadata": {
    "colab": {
      "provenance": [],
      "include_colab_link": true
    },
    "kernelspec": {
      "name": "python3",
      "display_name": "Python 3"
    },
    "language_info": {
      "name": "python"
    }
  },
  "cells": [
    {
      "cell_type": "markdown",
      "metadata": {
        "id": "view-in-github",
        "colab_type": "text"
      },
      "source": [
        "<a href=\"https://colab.research.google.com/github/AngJohnGabriel/58003-OOP/blob/main/Lab_Activity_2.ipynb\" target=\"_parent\"><img src=\"https://colab.research.google.com/assets/colab-badge.svg\" alt=\"Open In Colab\"/></a>"
      ]
    },
    {
      "cell_type": "code",
      "execution_count": 1,
      "metadata": {
        "colab": {
          "base_uri": "https://localhost:8080/"
        },
        "id": "H7biHZoRpUYt",
        "outputId": "c8a90273-32e4-44d0-8921-137db30d902e"
      },
      "outputs": [
        {
          "output_type": "stream",
          "name": "stdout",
          "text": [
            "Enter Radius:  6\n",
            "Area:  113.1\n",
            "Perimeter:  37.7\n"
          ]
        }
      ],
      "source": [
        "class Circle: \n",
        "  def __init__(self, radius, pi):\n",
        "    self.radius = radius \n",
        "    self.pi =  pi\n",
        "\n",
        "  def Area(self):\n",
        "    return self.pi * self.radius ** 2\n",
        "  def Perimeter(self):\n",
        "    return 2 * self.pi * self.radius\n",
        "  def result(self):\n",
        "    print(\"Area: \",  round(self.Area(), 2))\n",
        "    print(\"Perimeter: \", round(self.Perimeter(), 2))\n",
        "\n",
        "r = int(input(\"Enter Radius:  \"))\n",
        "\n",
        "value = Circle(r, 3.141592653589793)\n",
        "value.result()"
      ]
    }
  ]
}