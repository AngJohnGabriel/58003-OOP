{
  "nbformat": 4,
  "nbformat_minor": 0,
  "metadata": {
    "colab": {
      "provenance": [],
      "authorship_tag": "ABX9TyOLlr5eg5RpPOOk1F0sA67r",
      "include_colab_link": true
    },
    "kernelspec": {
      "name": "python3",
      "display_name": "Python 3"
    },
    "language_info": {
      "name": "python"
    }
  },
  "cells": [
    {
      "cell_type": "markdown",
      "metadata": {
        "id": "view-in-github",
        "colab_type": "text"
      },
      "source": [
        "<a href=\"https://colab.research.google.com/github/AngJohnGabriel/58003-OOP/blob/main/Control_Structures.ipynb\" target=\"_parent\"><img src=\"https://colab.research.google.com/assets/colab-badge.svg\" alt=\"Open In Colab\"/></a>"
      ]
    },
    {
      "cell_type": "markdown",
      "source": [
        "IF and Elif Condition"
      ],
      "metadata": {
        "id": "NaQbJ7Ux7t9V"
      }
    },
    {
      "cell_type": "code",
      "source": [
        "if 5>3:\n",
        "  print (\"five is greater than three!\")\n",
        "elif 3>5:\n",
        "  print (\"three is less than five!\")"
      ],
      "metadata": {
        "colab": {
          "base_uri": "https://localhost:8080/"
        },
        "id": "JgqhRRMc7yBE",
        "outputId": "6590f631-89b9-45a1-e18b-fd663d49e9fb"
      },
      "execution_count": 2,
      "outputs": [
        {
          "output_type": "stream",
          "name": "stdout",
          "text": [
            "five is greater than three!\n"
          ]
        }
      ]
    },
    {
      "cell_type": "markdown",
      "source": [
        "If elif and else"
      ],
      "metadata": {
        "id": "7g9ce-oT95vF"
      }
    },
    {
      "cell_type": "code",
      "source": [
        "if 3>2:\n",
        "  print (\"three is greater than two!\")\n",
        "elif 3==2:\n",
        "  print (\"three is equal to two!\")\n",
        "else: \n",
        "  print (\"three is less than two\")"
      ],
      "metadata": {
        "colab": {
          "base_uri": "https://localhost:8080/"
        },
        "id": "1WMIKXs899Vs",
        "outputId": "e52991f5-6ec1-4ba7-8594-dd9f5acbe89e"
      },
      "execution_count": 3,
      "outputs": [
        {
          "output_type": "stream",
          "name": "stdout",
          "text": [
            "three is greater than two!\n"
          ]
        }
      ]
    },
    {
      "cell_type": "markdown",
      "source": [
        "Application 1 - Create a Phyton Program that will compare if the student is in Elementary, Secondary, and Tertiary\n"
      ],
      "metadata": {
        "id": "xSp5uAgd-liN"
      }
    },
    {
      "cell_type": "code",
      "source": [
        "print (\"Type the grade level of the student.\")\n",
        "print (' ')\n",
        "print ('1-6 = Elementary')\n",
        "print ('7-12 = Secondary')\n",
        "print ('none of the choises above = Tertiary')\n",
        "\n",
        "x = int(input())\n",
        "\n",
        "if x <= 6: \n",
        "  print ('Elementary')\n",
        "elif x <= 12:\n",
        "  print ('Secondary')\n",
        "else:\n",
        "  print ('Tertiary')"
      ],
      "metadata": {
        "colab": {
          "base_uri": "https://localhost:8080/"
        },
        "id": "ajzxwAlz-q1V",
        "outputId": "327063e8-f878-4816-eb27-e1fca982a6fb"
      },
      "execution_count": 18,
      "outputs": [
        {
          "output_type": "stream",
          "name": "stdout",
          "text": [
            "Type the grade level of the student.\n",
            " \n",
            "1-6 = Elementary\n",
            "7-12 = Secondary\n",
            "none of the choises above = Tertiary\n",
            "2\n",
            "Elementary\n"
          ]
        }
      ]
    },
    {
      "cell_type": "markdown",
      "source": [
        "Shorthand if statement"
      ],
      "metadata": {
        "id": "M3KAaPEvCVRG"
      }
    },
    {
      "cell_type": "code",
      "source": [
        "a = 1\n",
        "b = 2\n",
        "\n",
        "if a<b : print ('a is less than b')"
      ],
      "metadata": {
        "colab": {
          "base_uri": "https://localhost:8080/"
        },
        "id": "OOOoOM_8CYJu",
        "outputId": "378ab070-4d36-4128-b327-be0464599dfe"
      },
      "execution_count": 20,
      "outputs": [
        {
          "output_type": "stream",
          "name": "stdout",
          "text": [
            "a is less than b\n"
          ]
        }
      ]
    },
    {
      "cell_type": "code",
      "source": [
        "print ('a') if a < b else print ('b')"
      ],
      "metadata": {
        "colab": {
          "base_uri": "https://localhost:8080/"
        },
        "id": "TRIAnKthCZNH",
        "outputId": "591173a1-050e-4b4f-acee-b302f39a2a0a"
      },
      "execution_count": 21,
      "outputs": [
        {
          "output_type": "stream",
          "name": "stdout",
          "text": [
            "a\n"
          ]
        }
      ]
    },
    {
      "cell_type": "code",
      "source": [
        "#nested_if\n",
        "\n",
        "x = int(input())\n",
        "\n",
        "if x > 10:\n",
        "  print ('above ten!')\n",
        "  if x > 20:\n",
        "    print ('above twenty')\n",
        "    if x > 30:\n",
        "        print ('above thirty')\n",
        "        if x > 40:\n",
        "            print ('above fourty')\n",
        "            if x > 50:\n",
        "                print ('above fifty hehe')\n",
        "            else:\n",
        "              print ('below fifty')   \n",
        "        else:\n",
        "           print ('below fourty')\n",
        "    else:\n",
        "        print ('below thirty') \n",
        "  else:\n",
        "      print ('below twenty')\n",
        "else:\n",
        "    print ('below ten')\n",
        "    \n",
        "      \n",
        "            \n",
        "           \n"
      ],
      "metadata": {
        "colab": {
          "base_uri": "https://localhost:8080/"
        },
        "id": "h9qgfEB-D5cv",
        "outputId": "e491d0bf-2a20-455b-9f70-cba0903bacbf"
      },
      "execution_count": 35,
      "outputs": [
        {
          "output_type": "stream",
          "name": "stdout",
          "text": [
            "41\n",
            "above ten!\n",
            "above twenty\n",
            "above thirty\n",
            "above fourty\n",
            "below fifty\n"
          ]
        }
      ]
    },
    {
      "cell_type": "code",
      "source": [
        "print ('Please enter your age.')\n",
        "\n",
        "x = int(input())\n",
        "\n",
        "if x <= 17:\n",
        "  print (\"The user doesn't meet the minimum age requirement.\") \n",
        "else:\n",
        "  print ('You are qualified to vote.')"
      ],
      "metadata": {
        "colab": {
          "base_uri": "https://localhost:8080/"
        },
        "id": "P8unnvXTH7go",
        "outputId": "6b844dfb-e5ea-4467-f15d-016ca197dcb0"
      },
      "execution_count": 40,
      "outputs": [
        {
          "output_type": "stream",
          "name": "stdout",
          "text": [
            "Please enter your age.\n",
            "12\n",
            "The user doesn't meet the minimum age requirement.\n"
          ]
        }
      ]
    },
    {
      "cell_type": "code",
      "source": [
        "print ('input a number')\n",
        "\n",
        "x = float(input())\n",
        "\n",
        "if x == 0:\n",
        "  print ('ZERO')\n",
        "elif x < 0:\n",
        "  print ('NEGATIVE')\n",
        "else:\n",
        "  print ('POSITIVE')"
      ],
      "metadata": {
        "colab": {
          "base_uri": "https://localhost:8080/"
        },
        "id": "oWek0dPMJQoJ",
        "outputId": "cb7a18e4-9c45-486a-b995-830899eb95cb"
      },
      "execution_count": 44,
      "outputs": [
        {
          "output_type": "stream",
          "name": "stdout",
          "text": [
            "input a number\n",
            "0\n",
            "ZERO\n"
          ]
        }
      ]
    },
    {
      "cell_type": "code",
      "source": [
        "print ('PUT YOUR GRADE HERE')\n",
        "\n",
        "x = float(input())\n",
        "\n",
        "if x < 0:\n",
        "  print ('Please put a positive number')\n",
        "elif x >= 70:\n",
        "  print ('Passed')\n",
        "elif x >= 65:\n",
        "  print ('Remedial')\n",
        "elif x <= 64:\n",
        "  print ('Failed')\n",
        "else:\n",
        "  print ('Please try again later.')"
      ],
      "metadata": {
        "colab": {
          "base_uri": "https://localhost:8080/"
        },
        "id": "2W9Hd4RGKFiA",
        "outputId": "30ff2851-7a28-4502-d744-81e810949223"
      },
      "execution_count": 55,
      "outputs": [
        {
          "output_type": "stream",
          "name": "stdout",
          "text": [
            "PUT YOUR GRADE HERE\n",
            "99\n",
            "Passed\n"
          ]
        }
      ]
    }
  ]
}