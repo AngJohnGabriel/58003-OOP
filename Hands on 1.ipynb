{
  "nbformat": 4,
  "nbformat_minor": 0,
  "metadata": {
    "colab": {
      "provenance": [],
      "include_colab_link": true
    },
    "kernelspec": {
      "name": "python3",
      "display_name": "Python 3"
    },
    "language_info": {
      "name": "python"
    }
  },
  "cells": [
    {
      "cell_type": "markdown",
      "metadata": {
        "id": "view-in-github",
        "colab_type": "text"
      },
      "source": [
        "<a href=\"https://colab.research.google.com/github/AngJohnGabriel/58003-OOP/blob/main/Hands%20on%201.ipynb\" target=\"_parent\"><img src=\"https://colab.research.google.com/assets/colab-badge.svg\" alt=\"Open In Colab\"/></a>"
      ]
    },
    {
      "cell_type": "code",
      "execution_count": 1,
      "metadata": {
        "colab": {
          "base_uri": "https://localhost:8080/"
        },
        "id": "pSo46lVKaqW0",
        "outputId": "8fadb93d-a69f-4c9d-dac4-12f76c89b155"
      },
      "outputs": [
        {
          "output_type": "stream",
          "name": "stdout",
          "text": [
            "The average grade is 86.0\n",
            "The average grade is 93.0\n",
            "The average grade is 80.66666666666667\n"
          ]
        }
      ],
      "source": [
        "class Person:\n",
        "  def __init__(self,prelim,midterm,finals):\n",
        "    self.prelim = prelim\n",
        "    self.midterm = midterm\n",
        "    self.finals = finals\n",
        "\n",
        "  def grade(self):\n",
        "    average = (self.prelim+self.midterm+self.finals)/3\n",
        "    print(\"Student's average grade is\",average)\n",
        "\n",
        "student1 = Person(80,90,88)\n",
        "student1.grade()\n",
        "\n",
        "student2 = Person(92,87,100)\n",
        "student2.grade()\n",
        "\n",
        "student3 = Person(78,81,83)\n",
        "student3.grade()\n"
      ]
    }
  ]
}